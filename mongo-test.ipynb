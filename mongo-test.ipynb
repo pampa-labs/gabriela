{
 "cells": [
  {
   "cell_type": "code",
   "execution_count": 2,
   "metadata": {},
   "outputs": [],
   "source": [
    "%load_ext autoreload\n",
    "%autoreload 2"
   ]
  },
  {
   "cell_type": "code",
   "execution_count": 3,
   "metadata": {},
   "outputs": [],
   "source": [
    "# Import necessary modules\n",
    "from gabriela.agent.core import WhatsAppAgent\n",
    "from dotenv import load_dotenv"
   ]
  },
  {
   "cell_type": "code",
   "execution_count": 4,
   "metadata": {},
   "outputs": [
    {
     "name": "stdout",
     "output_type": "stream",
     "text": [
      "Successfully connected to MongoDB!\n"
     ]
    }
   ],
   "source": [
    "# Connect to MongoDB\n",
    "from gabriela.agent.expenses_storage import MongoDBStorage\n",
    "\n",
    "# Create an instance of MongoDBStorage\n",
    "mongo_storage = MongoDBStorage()\n",
    "mongo_storage._connect()\n"
   ]
  },
  {
   "cell_type": "code",
   "execution_count": 6,
   "metadata": {},
   "outputs": [],
   "source": [
    "meals = list(mongo_storage.db['meals'].find({}))"
   ]
  },
  {
   "cell_type": "code",
   "execution_count": 8,
   "metadata": {},
   "outputs": [],
   "source": [
    "import json\n",
    "from bson import json_util\n",
    "\n",
    "meals = list(mongo_storage.db['meals'].find({}))\n",
    "json_data = json.dumps(meals, default=json_util.default)"
   ]
  },
  {
   "cell_type": "code",
   "execution_count": 9,
   "metadata": {},
   "outputs": [
    {
     "data": {
      "text/plain": [
       "'[{\"_id\": {\"$oid\": \"66f416ebdb2ed41a60db0b17\"}, \"meal\": \"Pizza\", \"date\": \"2024-05-02\", \"toppings\": [\"cheese\", \"pepperoni\"], \"team_member\": \"Lautaro\"}, {\"_id\": {\"$oid\": \"66f417743a4e713815ec414f\"}, \"meal\": \"Pizza\", \"date\": \"2024-05-02\", \"toppings\": [\"cheese\", \"pepperoni\"], \"team_member\": \"Lautaro\"}]'"
      ]
     },
     "execution_count": 9,
     "metadata": {},
     "output_type": "execute_result"
    }
   ],
   "source": [
    "json_data\n"
   ]
  }
 ],
 "metadata": {
  "kernelspec": {
   "display_name": "gabriela-env",
   "language": "python",
   "name": "python3"
  },
  "language_info": {
   "codemirror_mode": {
    "name": "ipython",
    "version": 3
   },
   "file_extension": ".py",
   "mimetype": "text/x-python",
   "name": "python",
   "nbconvert_exporter": "python",
   "pygments_lexer": "ipython3",
   "version": "3.12.6"
  }
 },
 "nbformat": 4,
 "nbformat_minor": 2
}
