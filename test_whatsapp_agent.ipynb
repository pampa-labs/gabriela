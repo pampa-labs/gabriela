{
 "cells": [
  {
   "cell_type": "code",
   "execution_count": 1,
   "metadata": {},
   "outputs": [],
   "source": [
    "%load_ext autoreload\n",
    "%autoreload 2"
   ]
  },
  {
   "cell_type": "code",
   "execution_count": 2,
   "metadata": {},
   "outputs": [],
   "source": [
    "# Import necessary modules\n",
    "from gabriela.agent.core import WhatsAppAgent\n",
    "from dotenv import load_dotenv"
   ]
  },
  {
   "cell_type": "code",
   "execution_count": 3,
   "metadata": {},
   "outputs": [
    {
     "data": {
      "text/plain": [
       "True"
      ]
     },
     "execution_count": 3,
     "metadata": {},
     "output_type": "execute_result"
    }
   ],
   "source": [
    "load_dotenv()"
   ]
  },
  {
   "cell_type": "code",
   "execution_count": 4,
   "metadata": {},
   "outputs": [],
   "source": [
    "# # Print OpenAI API key from environment variables\n",
    "# import os\n",
    "\n",
    "# openai_api_key = os.getenv('OPENAI_API_KEY')\n",
    "# print(f\"OpenAI API Key: {openai_api_key[:5]}...{openai_api_key[-5:] if openai_api_key else 'Not found'}\")\n"
   ]
  },
  {
   "cell_type": "code",
   "execution_count": 5,
   "metadata": {},
   "outputs": [],
   "source": [
    "# Initialize the WhatsApp agent\n",
    "wa = WhatsAppAgent()\n",
    "\n",
    "def simulate_message(sender: str, message: str):\n",
    "    \"\"\"\n",
    "    Simulates sending a message to the WhatsApp agent and prints the response.\n",
    "    \"\"\"\n",
    "    print(f\"Sender: {sender}\")\n",
    "    print(f\"Message: {message}\")\n",
    "    response = wa.handle_message({'from': sender, 'text': message})['messages'][-1].content\n",
    "    print(f\"Response: {response}\\n\")"
   ]
  },
  {
   "cell_type": "code",
   "execution_count": null,
   "metadata": {},
   "outputs": [],
   "source": [
    "# Test cases\n",
    "def run_tests():\n",
    "    print(\"Running test cases for WhatsApp Agent\\n\")\n",
    "\n",
    "    # Caso de prueba 1: Saludo simple\n",
    "    print(\"Caso de prueba 1: Saludo simple\")\n",
    "    simulate_message(\"100000\", \"Hola\")\n",
    "\n",
    "    # Caso de prueba 2: Preguntando sobre los miembros del equipo\n",
    "    # print(\"Caso de prueba 2: Preguntando sobre los miembros del equipo\")\n",
    "    # simulate_message(\"100000\", \"¿Quiénes son los miembros del equipo?\")\n",
    "\n",
    "    # Caso de prueba 3: Agregando un gasto\n",
    "    print(\"Caso de prueba 3: Agregando un gasto\")\n",
    "    simulate_message(\"100000\", \"Registrar gasto, Lautaro, comida, 100, 2024-05-01\")\n",
    "\n",
    "    # Caso de prueba 4: Recuperando gastos\n",
    "    print(\"Caso de prueba 4: Recuperando gastos\")\n",
    "    simulate_message(\"100000\", \"Obtener gastos de Lautaro\")\n",
    "\n",
    "    # Caso de prueba 5: Haciendo una pregunta no relacionada\n",
    "    print(\"Caso de prueba 5: Haciendo una pregunta no relacionada\")\n",
    "    simulate_message(\"100000\", \"¿Cómo está el clima hoy?\")\n",
    "\n",
    "    # Caso de prueba 5: Registrando un plan de comidas sin miembro del equipo\n",
    "    print(\"Caso de prueba 5: Registrando un plan de comidas sin miembro del equipo\")\n",
    "    simulate_message(\"100000\", \"Establecer plan de comidas para hoy: Pizza con queso y pepperoni\")\n",
    "\n",
    "    # Caso de prueba 6: Registrando un plan de comidas\n",
    "    print(\"Caso de prueba 6: Registrando un plan de comidas\")\n",
    "    simulate_message(\"100000\", \"Establecer plan de comidas para mañana: Pizza con queso y pepperoni. Establecido por Lautaro\")\n",
    "\n",
    "    # Caso de prueba 7: Recuperando plan de comidas\n",
    "    print(\"Caso de prueba 7: Recuperando plan de comidas\")\n",
    "    simulate_message(\"100000\", \"¿Cuál es el plan de comidas para hoy?\")\n",
    "\n",
    "    # # Caso de prueba 7: Estableciendo ausencia para Lucas\n",
    "    # print(\"Caso de prueba 7: Estableciendo ausencia para Lucas\")\n",
    "    simulate_message(\"100000\", \"Establecer fuera de oficina para Lucas pasado mañana\")\n",
    "\n",
    "    # Caso de prueba 8: Verificando ausencias\n",
    "    print(\"Caso de prueba 8: Verificando ausencias\")\n",
    "    simulate_message(\"100000\", \"¿Cuáles son las ausencias programadas?\")\n",
    "\n",
    "    # # # Caso de prueba 8: Haciendo una pregunta no relacionada\n",
    "    # print(\"Caso de prueba 8: Haciendo una pregunta no relacionada\")\n",
    "    # simulate_message(\"100000\", \"¿Cómo está el clima hoy?\")"
   ]
  },
  {
   "cell_type": "code",
   "execution_count": null,
   "metadata": {},
   "outputs": [],
   "source": [
    "run_tests()"
   ]
  },
  {
   "cell_type": "code",
   "execution_count": 7,
   "metadata": {},
   "outputs": [
    {
     "name": "stdout",
     "output_type": "stream",
     "text": [
      "Sender: 02345\n",
      "Message: Cancelar todos los gastos pendientes\n",
      "Successfully connected to MongoDB!\n",
      "Response: He cancelado todos los gastos pendientes exitosamente. Si necesitas algo más, ¡aquí estoy para ayudarte!\n",
      "\n"
     ]
    }
   ],
   "source": [
    "simulate_message(\"02345\", \"Cancelar todos los gastos pendientes\")\n"
   ]
  }
 ],
 "metadata": {
  "kernelspec": {
   "display_name": "gabriela-env",
   "language": "python",
   "name": "python3"
  },
  "language_info": {
   "codemirror_mode": {
    "name": "ipython",
    "version": 3
   },
   "file_extension": ".py",
   "mimetype": "text/x-python",
   "name": "python",
   "nbconvert_exporter": "python",
   "pygments_lexer": "ipython3",
   "version": "3.12.6"
  }
 },
 "nbformat": 4,
 "nbformat_minor": 2
}
