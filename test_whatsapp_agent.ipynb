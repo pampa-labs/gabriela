{
 "cells": [
  {
   "cell_type": "code",
   "execution_count": 1,
   "metadata": {},
   "outputs": [],
   "source": [
    "# Import necessary modules\n",
    "from agent.core import WhatsAppAgent\n",
    "from dotenv import load_dotenv"
   ]
  },
  {
   "cell_type": "code",
   "execution_count": 5,
   "metadata": {},
   "outputs": [
    {
     "data": {
      "text/plain": [
       "True"
      ]
     },
     "execution_count": 5,
     "metadata": {},
     "output_type": "execute_result"
    }
   ],
   "source": [
    "load_dotenv()"
   ]
  },
  {
   "cell_type": "code",
   "execution_count": 7,
   "metadata": {},
   "outputs": [],
   "source": [
    "# # Print OpenAI API key from environment variables\n",
    "# import os\n",
    "\n",
    "# openai_api_key = os.getenv('OPENAI_API_KEY')\n",
    "# print(f\"OpenAI API Key: {openai_api_key[:5]}...{openai_api_key[-5:] if openai_api_key else 'Not found'}\")\n"
   ]
  },
  {
   "cell_type": "code",
   "execution_count": 2,
   "metadata": {},
   "outputs": [],
   "source": [
    "# Initialize the WhatsApp agent\n",
    "wa = WhatsAppAgent()\n",
    "\n",
    "def simulate_message(sender: str, message: str):\n",
    "    \"\"\"\n",
    "    Simulates sending a message to the WhatsApp agent and prints the response.\n",
    "    \"\"\"\n",
    "    print(f\"Sender: {sender}\")\n",
    "    print(f\"Message: {message}\")\n",
    "    response = wa.handle_message({'from': sender, 'text': message})['messages'][-1].content\n",
    "    print(f\"Response: {response}\\n\")"
   ]
  },
  {
   "cell_type": "code",
   "execution_count": 3,
   "metadata": {},
   "outputs": [],
   "source": [
    "# Test cases\n",
    "def run_tests():\n",
    "    print(\"Running test cases for WhatsApp Agent\\n\")\n",
    "\n",
    "    # Test case 1: Simple greeting\n",
    "    print(\"Test case 1: Simple greeting\")\n",
    "    simulate_message(\"123456789\", \"Hello\")\n",
    "\n",
    "    # Test case 2: Asking about team members\n",
    "    print(\"Test case 2: Asking about team members\")\n",
    "    simulate_message(\"123456789\", \"Who are the team members?\")\n",
    "\n",
    "    # Test case 3: Adding an expense\n",
    "    print(\"Test case 3: Adding an expense\")\n",
    "    simulate_message(\"123456789\", \"Track expense, Lautaro, food, 100, 2024-05-01\")\n",
    "\n",
    "    # Test case 4: Retrieving expenses\n",
    "    print(\"Test case 4: Retrieving expenses\")\n",
    "    simulate_message(\"123456789\", \"Get expenses for Lautaro\")\n",
    "\n",
    "    # Test case 5: Asking an unrelated question\n",
    "    print(\"Test case 5: Asking an unrelated question\")\n",
    "    simulate_message(\"123456789\", \"What's the weather like today?\")"
   ]
  },
  {
   "cell_type": "code",
   "execution_count": 4,
   "metadata": {},
   "outputs": [
    {
     "name": "stdout",
     "output_type": "stream",
     "text": [
      "Running test cases for WhatsApp Agent\n",
      "\n",
      "Test case 1: Simple greeting\n",
      "Sender: 123456789\n",
      "Message: Hello\n",
      "Response: Hi there! How can I assist you today?\n",
      "\n",
      "Test case 2: Asking about team members\n",
      "Sender: 123456789\n",
      "Message: Who are the team members?\n",
      "Response: I don't have the list of team members right now. Could you please provide the names of the team members you are referring to?\n",
      "\n",
      "Test case 3: Adding an expense\n",
      "Sender: 123456789\n",
      "Message: Track expense, Lautaro, food, 100, 2024-05-01\n",
      "Response: The expense for Lautaro has been successfully tracked. Is there anything else you need assistance with?\n",
      "\n",
      "Test case 4: Retrieving expenses\n",
      "Sender: 123456789\n",
      "Message: Get expenses for Lautaro\n",
      "Response: Here are the expenses for Lautaro:\n",
      "\n",
      "1. **Expense Type:** Taxi\n",
      "   - **Date:** 2024-09-06\n",
      "   - **Total Value:** 3000.0\n",
      "\n",
      "2. **Expense Type:** Food\n",
      "   - **Date:** 2024-05-01\n",
      "   - **Total Value:** 100.0\n",
      "\n",
      "3. **Expense Type:** Food\n",
      "   - **Date:** 2024-05-01\n",
      "   - **Total Value:** 100.0\n",
      "\n",
      "4. **Expense Type:** Food\n",
      "   - **Date:** 2024-05-01\n",
      "   - **Total Value:** 100.0\n",
      "\n",
      "It looks like there are some duplicate entries. Please let me know if you need further assistance or if you want to manage these entries.\n",
      "\n",
      "Test case 5: Asking an unrelated question\n",
      "Sender: 123456789\n",
      "Message: What's the weather like today?\n",
      "Response: I currently don't have access to real-time information, including weather updates. You can check the weather using a weather app or website for the most accurate and up-to-date information. Is there anything else I can help you with?\n",
      "\n"
     ]
    }
   ],
   "source": [
    "run_tests()"
   ]
  },
  {
   "cell_type": "code",
   "execution_count": null,
   "metadata": {},
   "outputs": [],
   "source": []
  }
 ],
 "metadata": {
  "kernelspec": {
   "display_name": "gabriela-env",
   "language": "python",
   "name": "python3"
  },
  "language_info": {
   "codemirror_mode": {
    "name": "ipython",
    "version": 3
   },
   "file_extension": ".py",
   "mimetype": "text/x-python",
   "name": "python",
   "nbconvert_exporter": "python",
   "pygments_lexer": "ipython3",
   "version": "3.12.4"
  }
 },
 "nbformat": 4,
 "nbformat_minor": 2
}
