{
 "cells": [
  {
   "cell_type": "code",
   "execution_count": 17,
   "metadata": {},
   "outputs": [
    {
     "name": "stdout",
     "output_type": "stream",
     "text": [
      "The autoreload extension is already loaded. To reload it, use:\n",
      "  %reload_ext autoreload\n"
     ]
    }
   ],
   "source": [
    "%load_ext autoreload\n",
    "%autoreload 2"
   ]
  },
  {
   "cell_type": "code",
   "execution_count": 18,
   "metadata": {},
   "outputs": [],
   "source": [
    "# Import necessary modules\n",
    "from agent.core import WhatsAppAgent\n",
    "from dotenv import load_dotenv"
   ]
  },
  {
   "cell_type": "code",
   "execution_count": 19,
   "metadata": {},
   "outputs": [
    {
     "data": {
      "text/plain": [
       "True"
      ]
     },
     "execution_count": 19,
     "metadata": {},
     "output_type": "execute_result"
    }
   ],
   "source": [
    "load_dotenv()"
   ]
  },
  {
   "cell_type": "code",
   "execution_count": 20,
   "metadata": {},
   "outputs": [],
   "source": [
    "# # Print OpenAI API key from environment variables\n",
    "# import os\n",
    "\n",
    "# openai_api_key = os.getenv('OPENAI_API_KEY')\n",
    "# print(f\"OpenAI API Key: {openai_api_key[:5]}...{openai_api_key[-5:] if openai_api_key else 'Not found'}\")\n"
   ]
  },
  {
   "cell_type": "code",
   "execution_count": 21,
   "metadata": {},
   "outputs": [],
   "source": [
    "# Initialize the WhatsApp agent\n",
    "wa = WhatsAppAgent()\n",
    "\n",
    "def simulate_message(sender: str, message: str):\n",
    "    \"\"\"\n",
    "    Simulates sending a message to the WhatsApp agent and prints the response.\n",
    "    \"\"\"\n",
    "    print(f\"Sender: {sender}\")\n",
    "    print(f\"Message: {message}\")\n",
    "    response = wa.handle_message({'from': sender, 'text': message})['messages'][-1].content\n",
    "    print(f\"Response: {response}\\n\")"
   ]
  },
  {
   "cell_type": "code",
   "execution_count": 22,
   "metadata": {},
   "outputs": [],
   "source": [
    "# Test cases\n",
    "def run_tests():\n",
    "    print(\"Running test cases for WhatsApp Agent\\n\")\n",
    "\n",
    "    # # Test case 1: Simple greeting\n",
    "    # print(\"Test case 1: Simple greeting\")\n",
    "    # simulate_message(\"123456789\", \"Hello\")\n",
    "\n",
    "    # # Test case 2: Asking about team members\n",
    "    # print(\"Test case 2: Asking about team members\")\n",
    "    # simulate_message(\"123456789\", \"Who are the team members?\")\n",
    "\n",
    "    # # Test case 3: Adding an expense\n",
    "    # print(\"Test case 3: Adding an expense\")\n",
    "    # simulate_message(\"123456789\", \"Track expense, Lautaro, food, 100, 2024-05-01\")\n",
    "\n",
    "    # # Test case 4: Retrieving expenses\n",
    "    # print(\"Test case 4: Retrieving expenses\")\n",
    "    # simulate_message(\"123456789\", \"Get expenses for Lautaro\")\n",
    "\n",
    "    # # Test case 5: Asking an unrelated question\n",
    "    # print(\"Test case 5: Asking an unrelated question\")\n",
    "    # simulate_message(\"123456789\", \"What's the weather like today?\")\n",
    "\n",
    "    # Test case 5: Recording a meal plan w/o team member\n",
    "    print(\"Test case 5: Recording a meal plan w/o team member\")\n",
    "    simulate_message(\"123456789\", \"Set meal plan for 2024-05-02: Pizza with cheese and pepperoni\")\n",
    "\n",
    "    # Test case 6: Recording a meal plan\n",
    "    print(\"Test case 6: Recording a meal plan\")\n",
    "    simulate_message(\"123456789\", \"Set meal plan for 2024-05-02: Pizza with cheese and pepperoni. Set by Lautaro\")\n",
    "\n",
    "    # Test case 7: Retrieving meal plan\n",
    "    print(\"Test case 7: Retrieving meal plan\")\n",
    "    simulate_message(\"123456789\", \"What's the meal plan for 2024-05-02?\")\n",
    "\n",
    "    # # Test case 8: Asking an unrelated question\n",
    "    # print(\"Test case 8: Asking an unrelated question\")\n",
    "    # simulate_message(\"123456789\", \"What's the weather like today?\")"
   ]
  },
  {
   "cell_type": "code",
   "execution_count": 23,
   "metadata": {},
   "outputs": [
    {
     "name": "stdout",
     "output_type": "stream",
     "text": [
      "Running test cases for WhatsApp Agent\n",
      "\n",
      "Test case 5: Recording a meal plan w/o team member\n",
      "Sender: 123456789\n",
      "Message: Set meal plan for 2024-05-02: Pizza with cheese and pepperoni\n"
     ]
    }
   ],
   "source": [
    "run_tests()"
   ]
  }
 ],
 "metadata": {
  "kernelspec": {
   "display_name": "gabriela-env",
   "language": "python",
   "name": "python3"
  },
  "language_info": {
   "codemirror_mode": {
    "name": "ipython",
    "version": 3
   },
   "file_extension": ".py",
   "mimetype": "text/x-python",
   "name": "python",
   "nbconvert_exporter": "python",
   "pygments_lexer": "ipython3",
   "version": "3.11.9"
  }
 },
 "nbformat": 4,
 "nbformat_minor": 2
}
