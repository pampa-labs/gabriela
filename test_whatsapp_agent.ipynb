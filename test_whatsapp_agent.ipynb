{
 "cells": [
  {
   "cell_type": "code",
   "execution_count": 1,
   "metadata": {},
   "outputs": [],
   "source": [
    "%load_ext autoreload\n",
    "%autoreload 2"
   ]
  },
  {
   "cell_type": "code",
   "execution_count": 2,
   "metadata": {},
   "outputs": [],
   "source": [
    "# Import necessary modules\n",
    "from gabriela.agent.core import WhatsAppAgent\n",
    "from dotenv import load_dotenv"
   ]
  },
  {
   "cell_type": "code",
   "execution_count": 3,
   "metadata": {},
   "outputs": [
    {
     "data": {
      "text/plain": [
       "True"
      ]
     },
     "execution_count": 3,
     "metadata": {},
     "output_type": "execute_result"
    }
   ],
   "source": [
    "load_dotenv()"
   ]
  },
  {
   "cell_type": "code",
   "execution_count": null,
   "metadata": {},
   "outputs": [],
   "source": [
    "# # Print OpenAI API key from environment variables\n",
    "# import os\n",
    "\n",
    "# openai_api_key = os.getenv('OPENAI_API_KEY')\n",
    "# print(f\"OpenAI API Key: {openai_api_key[:5]}...{openai_api_key[-5:] if openai_api_key else 'Not found'}\")\n"
   ]
  },
  {
   "cell_type": "code",
   "execution_count": 4,
   "metadata": {},
   "outputs": [],
   "source": [
    "# Initialize the WhatsApp agent\n",
    "wa = WhatsAppAgent()\n",
    "\n",
    "def simulate_message(sender: str, message: str):\n",
    "    \"\"\"\n",
    "    Simulates sending a message to the WhatsApp agent and prints the response.\n",
    "    \"\"\"\n",
    "    print(f\"Sender: {sender}\")\n",
    "    print(f\"Message: {message}\")\n",
    "    response = wa.handle_message({'from': sender, 'text': message})['messages'][-1].content\n",
    "    print(f\"Response: {response}\\n\")"
   ]
  },
  {
   "cell_type": "code",
   "execution_count": 5,
   "metadata": {},
   "outputs": [],
   "source": [
    "# Test cases\n",
    "def run_tests():\n",
    "    print(\"Running test cases for WhatsApp Agent\\n\")\n",
    "\n",
    "    # # Test case 1: Simple greeting\n",
    "    # print(\"Test case 1: Simple greeting\")\n",
    "    # simulate_message(\"123456789\", \"Hello\")\n",
    "\n",
    "    # # Test case 2: Asking about team members\n",
    "    # print(\"Test case 2: Asking about team members\")\n",
    "    # simulate_message(\"123456789\", \"Who are the team members?\")\n",
    "\n",
    "    # Test case 3: Adding an expense\n",
    "    print(\"Test case 3: Adding an expense\")\n",
    "    simulate_message(\"123456789\", \"Track expense, Lautaro, food, 100, 2024-05-01\")\n",
    "\n",
    "    # Test case 4: Retrieving expenses\n",
    "    print(\"Test case 4: Retrieving expenses\")\n",
    "    simulate_message(\"123456789\", \"Get expenses for Lautaro\")\n",
    "\n",
    "    # # Test case 5: Asking an unrelated question\n",
    "    # print(\"Test case 5: Asking an unrelated question\")\n",
    "    # simulate_message(\"123456789\", \"What's the weather like today?\")\n",
    "\n",
    "    # Test case 5: Recording a meal plan w/o team member\n",
    "    # print(\"Test case 5: Recording a meal plan w/o team member\")\n",
    "    # simulate_message(\"123456789\", \"Set meal plan for 2024-05-02: Pizza with cheese and pepperoni\")\n",
    "\n",
    "    # Test case 6: Recording a meal plan\n",
    "    print(\"Test case 6: Recording a meal plan\")\n",
    "    simulate_message(\"123456789\", \"Set meal plan for 2024-05-02: Pizza with cheese and pepperoni. Set by Lautaro\")\n",
    "\n",
    "    # Test case 7: Retrieving meal plan\n",
    "    print(\"Test case 7: Retrieving meal plan\")\n",
    "    simulate_message(\"123456789\", \"What's the meal plan for 2024-05-02?\")\n",
    "\n",
    "    # # Test case 7: Setting leave for Lucas\n",
    "    # print(\"Test case 7: Setting leave for Lucas\")\n",
    "    simulate_message(\"123456789\", \"Set out of office for Francisco on 2024-09-27 because of wedding issues\")\n",
    "\n",
    "    # Test case 8: Checking for leave\n",
    "    print(\"Test case 8: Checking for leave\")\n",
    "    simulate_message(\"123456789\", \"What are the scheduled leaves?\")\n",
    "\n",
    "    # # # Test case 8: Asking an unrelated question\n",
    "    # print(\"Test case 8: Asking an unrelated question\")\n",
    "    # simulate_message(\"123456789\", \"What's the weather like today?\")"
   ]
  },
  {
   "cell_type": "code",
   "execution_count": 6,
   "metadata": {},
   "outputs": [
    {
     "name": "stdout",
     "output_type": "stream",
     "text": [
      "Running test cases for WhatsApp Agent\n",
      "\n",
      "Test case 3: Adding an expense\n",
      "Sender: 123456789\n",
      "Message: Track expense, Lautaro, food, 100, 2024-05-01\n",
      "Successfully connected to MongoDB!\n",
      "Response: The expense for Lautaro has been successfully tracked. Here are the details:\n",
      "- **Expense Type:** Food\n",
      "- **Amount:** $100\n",
      "- **Date:** May 1, 2024\n",
      "\n",
      "Test case 4: Retrieving expenses\n",
      "Sender: 123456789\n",
      "Message: Get expenses for Lautaro\n",
      "Successfully connected to MongoDB!\n",
      "Response: Here are the expenses for Lautaro:\n",
      "- **Expense Type:** Food\n",
      "- **Amount:** $100\n",
      "- **Date:** May 1, 2024\n",
      "- **State:** Pending\n",
      "\n",
      "Test case 6: Recording a meal plan\n",
      "Sender: 123456789\n",
      "Message: Set meal plan for 2024-05-02: Pizza with cheese and pepperoni. Set by Lautaro\n",
      "Successfully connected to MongoDB!\n",
      "Response: The meal plan for May 2, 2024, has been successfully set by Lautaro. Here are the details:\n",
      "- **Meal:** Pizza\n",
      "- **Toppings:** Cheese, Pepperoni\n",
      "\n",
      "Test case 7: Retrieving meal plan\n",
      "Sender: 123456789\n",
      "Message: What's the meal plan for 2024-05-02?\n",
      "Successfully connected to MongoDB!\n",
      "Response: The meal plan for May 2, 2024, is as follows:\n",
      "- **Meal:** Pizza\n",
      "- **Toppings:** Cheese, Pepperoni\n",
      "- **Set by:** Lautaro\n",
      "\n",
      "(Note: There appear to be multiple entries for the same meal plan. This might be a duplicate entry.)\n",
      "\n",
      "Sender: 123456789\n",
      "Message: Set out of office for Francisco on 2024-09-27 because of wedding issues\n",
      "Successfully connected to MongoDB!\n",
      "Response: Francisco has been marked as out of office on September 27, 2024, due to wedding issues.\n",
      "\n",
      "Test case 8: Checking for leave\n",
      "Sender: 123456789\n",
      "Message: What are the scheduled leaves?\n",
      "Successfully connected to MongoDB!\n",
      "Response: Here are the scheduled leaves:\n",
      "\n",
      "- **Lucas**\n",
      "  - **Date:** September 27, 2024\n",
      "  - **Reason:** Eye surgery\n",
      "\n",
      "- **Francisco**\n",
      "  - **Date:** September 27, 2024\n",
      "  - **Reason:** Wedding issues\n",
      "\n",
      "(Note: There appear to be multiple entries for Francisco on the same date with the same reason. This might be a duplicate entry.)\n",
      "\n"
     ]
    }
   ],
   "source": [
    "run_tests()"
   ]
  },
  {
   "cell_type": "code",
   "execution_count": 8,
   "metadata": {},
   "outputs": [
    {
     "name": "stdout",
     "output_type": "stream",
     "text": [
      "Sender: 123456789\n",
      "Message: Alguien reporto que no va a ir a la oficina hoy?\n",
      "Response: No, nadie ha reportado que no va a ir a la oficina hoy.\n",
      "\n"
     ]
    }
   ],
   "source": [
    "simulate_message(\"123456789\", \"Alguien reporto que no va a ir a la oficina hoy?\")"
   ]
  }
 ],
 "metadata": {
  "kernelspec": {
   "display_name": "gabriela-env",
   "language": "python",
   "name": "python3"
  },
  "language_info": {
   "codemirror_mode": {
    "name": "ipython",
    "version": 3
   },
   "file_extension": ".py",
   "mimetype": "text/x-python",
   "name": "python",
   "nbconvert_exporter": "python",
   "pygments_lexer": "ipython3",
   "version": "3.11.9"
  }
 },
 "nbformat": 4,
 "nbformat_minor": 2
}
