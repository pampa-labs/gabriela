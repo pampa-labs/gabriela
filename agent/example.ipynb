{
 "cells": [
  {
   "cell_type": "code",
   "execution_count": 1,
   "metadata": {},
   "outputs": [],
   "source": [
    "from core import WhatsAppAgent\n",
    "\n",
    "wa = WhatsAppAgent()"
   ]
  },
  {
   "cell_type": "code",
   "execution_count": 2,
   "metadata": {},
   "outputs": [
    {
     "name": "stdout",
     "output_type": "stream",
     "text": [
      "¡Hola! ¿En qué puedo ayudarte hoy?\n"
     ]
    }
   ],
   "source": [
    "print(wa.handle_message({'from': '115248478', 'text': 'Hi'})['messages'][-1].content)"
   ]
  },
  {
   "cell_type": "code",
   "execution_count": 3,
   "metadata": {},
   "outputs": [
    {
     "name": "stdout",
     "output_type": "stream",
     "text": [
      "The expense has been successfully tracked! Is there anything else you need help with?\n"
     ]
    }
   ],
   "source": [
    "messages = wa.handle_message({'from': '115248478', 'text': 'Track gasto, lautaro, comida, 100, 2024-05-01'})['messages']\n",
    "print(messages[-1].content)"
   ]
  },
  {
   "cell_type": "code",
   "execution_count": 3,
   "metadata": {},
   "outputs": [
    {
     "name": "stdout",
     "output_type": "stream",
     "text": [
      "Parece que aún hay un problema al recuperar los gastos de Lautaro. Me encargaré de investigarlo. Mientras tanto, ¿hay algo más en lo que pueda ayudarte?\n"
     ]
    }
   ],
   "source": [
    "messages = wa.handle_message({'from': '115248478', 'text': 'Retrieve expenses of lautaro'})['messages']\n",
    "print(messages[-1].content)"
   ]
  }
 ],
 "metadata": {
  "kernelspec": {
   "display_name": ".venv",
   "language": "python",
   "name": "python3"
  },
  "language_info": {
   "codemirror_mode": {
    "name": "ipython",
    "version": 3
   },
   "file_extension": ".py",
   "mimetype": "text/x-python",
   "name": "python",
   "nbconvert_exporter": "python",
   "pygments_lexer": "ipython3",
   "version": "3.11.9"
  }
 },
 "nbformat": 4,
 "nbformat_minor": 2
}
